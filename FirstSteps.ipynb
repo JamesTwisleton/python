{
 "cells": [
  {
   "cell_type": "markdown",
   "id": "protective-point",
   "metadata": {},
   "source": [
    "# This is a markdown cell.\n",
    "\n",
    "Double click a cell to enter editing mode. On a **markdown cell**, press `ctrl + enter` to exit editing mode.\n",
    "\n",
    "You can do all sorts of ~rich~ *formatting* with markdown\n",
    "\n",
    "![You got Rustled](rustled.jpg \"Title\")\n",
    "\n",
    "\n",
    "[check this out](https://www.markdownguide.org/cheat-sheet/) to find out more.\n"
   ]
  },
  {
   "cell_type": "code",
   "execution_count": 5,
   "id": "respective-words",
   "metadata": {},
   "outputs": [
    {
     "name": "stdout",
     "output_type": "stream",
     "text": [
      "Hello Cruel World\n"
     ]
    }
   ],
   "source": [
    "# This is a code block. Press ctrl + / to turn a line into a comment, and press it again to uncomment it.\n",
    "# Any line or line portion prefixed with a # is a comment.\n",
    "# Pressing ctrl + enter here will run whatever code is in the block and output it below.\n",
    "# Have a go mucking about with this print statement and pressing ctrl + enter to run the code and change the output below.\n",
    "print(\"Hello Cruel World\")"
   ]
  },
  {
   "cell_type": "markdown",
   "id": "immediate-grounds",
   "metadata": {},
   "source": [
    "# FizzBuzz\n",
    "As specified by the aforementioned \"bellpiece\", let's try and do the FizzBuzz exercise. Use the code cell below this one to input your solution.\n",
    "\n",
    "## Problem definition\n",
    "For the numbers 1 to 100:\n",
    "\n",
    "If the current number is a multiple of 3, output \"fizz\".\n",
    "\n",
    "If the current number is a multiple of 5, output \"buzz\".\n",
    "\n",
    "If the current number is a multiple of both 3 and 5, output \"fizzbuzz\".\n",
    "\n",
    "## Twisleton's handy hints\n",
    "* [For loops](https://www.w3schools.com/python/python_for_loops.asp)\n",
    "* [Modulo](https://realpython.com/python-modulo-operator/)\n",
    "* [If statements](https://www.w3schools.com/python/python_conditions.asp)"
   ]
  },
  {
   "cell_type": "code",
   "execution_count": 12,
   "id": "addressed-prayer",
   "metadata": {},
   "outputs": [
    {
     "name": "stdout",
     "output_type": "stream",
     "text": [
      "delete this line, it's here to demonstrate that any code in this function will be executed on ctrl+enter\n"
     ]
    }
   ],
   "source": [
    "def fizzBuzz():\n",
    "    # PUT YOUR CODE HERE\n",
    "    # Note that indentation is important in Python. \n",
    "# code indented like this comment is will not be executed by the final line of this block, \n",
    "# because it is not part of the fizzBuzz function.\n",
    "    print(\"delete this line, it's here to demonstrate that any code in this function will be executed on ctrl+enter\")\n",
    "\n",
    "fizzBuzz()"
   ]
  }
 ],
 "metadata": {
  "kernelspec": {
   "display_name": "Python 3",
   "language": "python",
   "name": "python3"
  },
  "language_info": {
   "codemirror_mode": {
    "name": "ipython",
    "version": 3
   },
   "file_extension": ".py",
   "mimetype": "text/x-python",
   "name": "python",
   "nbconvert_exporter": "python",
   "pygments_lexer": "ipython3",
   "version": "3.6.9"
  }
 },
 "nbformat": 4,
 "nbformat_minor": 5
}
